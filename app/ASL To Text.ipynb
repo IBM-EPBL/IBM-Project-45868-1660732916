{
 "cells": [
  {
   "cell_type": "markdown",
   "id": "da764868",
   "metadata": {},
   "source": [
    "### Importing Libraries"
   ]
  },
  {
   "cell_type": "code",
   "execution_count": 1,
   "id": "29defea7",
   "metadata": {},
   "outputs": [],
   "source": [
    "import os\n",
    "import cv2\n",
    "import numpy as np\n",
    "from sklearn.model_selection import train_test_split\n",
    "from keras.preprocessing.image import ImageDataGenerator\n",
    "from keras.models import Sequential, load_model\n",
    "from keras.layers import Dense, Convolution2D, MaxPooling2D, Dropout, Flatten\n",
    "from skimage.transform import resize"
   ]
  },
  {
   "cell_type": "markdown",
   "id": "5399d503",
   "metadata": {},
   "source": [
    "Directory which will contain the Training Images according to alphabet. Sub-directories of alphabets are already present \n",
    "\n",
    "*Change it to a directory of your convinience*"
   ]
  },
  {
   "cell_type": "code",
   "execution_count": 2,
   "id": "8e32a765",
   "metadata": {},
   "outputs": [],
   "source": [
    "TRAIN_DIR = \"dataset/training_set/\"\n",
    "TEST_DIR = \"dataset/test_set/\""
   ]
  },
  {
   "cell_type": "markdown",
   "id": "67b6e600",
   "metadata": {},
   "source": [
    "Defining the classes of images that we wish to classify."
   ]
  },
  {
   "cell_type": "code",
   "execution_count": 3,
   "id": "b06c8825",
   "metadata": {},
   "outputs": [],
   "source": [
    "CATEGORIES = ['A','B','C','D','E','F','G','H','I']"
   ]
  },
  {
   "cell_type": "markdown",
   "id": "9b4a83f3",
   "metadata": {},
   "source": [
    "### Preparing Training Dataset"
   ]
  },
  {
   "cell_type": "markdown",
   "id": "7520414e",
   "metadata": {},
   "source": [
    "Creating empty directory to store training data"
   ]
  },
  {
   "cell_type": "code",
   "execution_count": 4,
   "id": "e2c1b951",
   "metadata": {},
   "outputs": [],
   "source": [
    "trainImgs = []"
   ]
  },
  {
   "cell_type": "markdown",
   "id": "71bc9700",
   "metadata": {},
   "source": [
    "Recursive function that reads in image using OpenCv and Resizes it and stores the image array in a list"
   ]
  },
  {
   "cell_type": "markdown",
   "id": "2356e067",
   "metadata": {},
   "source": [
    "### ImageDataGenerator"
   ]
  },
  {
   "cell_type": "code",
   "execution_count": 5,
   "id": "d46c5dca",
   "metadata": {},
   "outputs": [],
   "source": [
    "train_datagen = ImageDataGenerator(rescale = 1./255, shear_range=0.2, zoom_range=0.2, horizontal_flip=True)\n",
    "test_datagen = ImageDataGenerator(rescale = 1./255)"
   ]
  },
  {
   "cell_type": "code",
   "execution_count": 6,
   "id": "f089a7a5",
   "metadata": {},
   "outputs": [
    {
     "name": "stdout",
     "output_type": "stream",
     "text": [
      "Found 15750 images belonging to 9 classes.\n",
      "Found 2250 images belonging to 9 classes.\n"
     ]
    }
   ],
   "source": [
    "x_train = train_datagen.flow_from_directory(TRAIN_DIR, target_size=(64,64), batch_size=300, class_mode='categorical', color_mode='grayscale')\n",
    "x_test = test_datagen.flow_from_directory(TEST_DIR, target_size=(64,64), batch_size=300, class_mode='categorical', color_mode='grayscale')"
   ]
  },
  {
   "cell_type": "markdown",
   "id": "594f16ba",
   "metadata": {},
   "source": [
    "### Model Building"
   ]
  },
  {
   "cell_type": "code",
   "execution_count": 7,
   "id": "4d55333a",
   "metadata": {},
   "outputs": [],
   "source": [
    "model = Sequential()\n",
    "model.add(Convolution2D(32, (3,3), input_shape=(64,64,1), activation='relu'))\n",
    "model.add(MaxPooling2D(pool_size=(2,2)))\n",
    "model.add(Flatten())\n",
    "model.add(Dense(units=512, activation='relu'))\n",
    "model.add(Dense(units=9, activation='softmax'))"
   ]
  },
  {
   "cell_type": "markdown",
   "id": "00110a49",
   "metadata": {},
   "source": [
    "### Compiling the Model"
   ]
  },
  {
   "cell_type": "code",
   "execution_count": 8,
   "id": "75e7534b",
   "metadata": {},
   "outputs": [],
   "source": [
    "model.compile(loss='categorical_crossentropy', optimizer='adam', metrics=['accuracy'])"
   ]
  },
  {
   "cell_type": "markdown",
   "id": "46330533",
   "metadata": {},
   "source": [
    "### Training The Model "
   ]
  },
  {
   "cell_type": "code",
   "execution_count": 9,
   "id": "8623a0bb",
   "metadata": {},
   "outputs": [
    {
     "name": "stdout",
     "output_type": "stream",
     "text": [
      "Epoch 1/10\n",
      "24/24 [==============================] - ETA: 0s - loss: 1.3023 - accuracy: 0.6371WARNING:tensorflow:Your input ran out of data; interrupting training. Make sure that your dataset or generator can generate at least `steps_per_epoch * epochs` batches (in this case, 40 batches). You may need to use the repeat() function when building your dataset.\n",
      "24/24 [==============================] - 14s 570ms/step - loss: 1.3023 - accuracy: 0.6371 - val_loss: 0.4307 - val_accuracy: 0.9080\n",
      "Epoch 2/10\n",
      "24/24 [==============================] - 11s 464ms/step - loss: 0.2740 - accuracy: 0.9226\n",
      "Epoch 3/10\n",
      "24/24 [==============================] - 11s 460ms/step - loss: 0.1497 - accuracy: 0.9578\n",
      "Epoch 4/10\n",
      "24/24 [==============================] - 11s 455ms/step - loss: 0.0891 - accuracy: 0.9789\n",
      "Epoch 5/10\n",
      "24/24 [==============================] - 11s 464ms/step - loss: 0.0599 - accuracy: 0.9851\n",
      "Epoch 6/10\n",
      "24/24 [==============================] - 12s 476ms/step - loss: 0.0412 - accuracy: 0.9903\n",
      "Epoch 7/10\n",
      "24/24 [==============================] - 11s 450ms/step - loss: 0.0303 - accuracy: 0.9935\n",
      "Epoch 8/10\n",
      "24/24 [==============================] - 11s 473ms/step - loss: 0.0230 - accuracy: 0.9951\n",
      "Epoch 9/10\n",
      "24/24 [==============================] - 11s 443ms/step - loss: 0.0188 - accuracy: 0.9959\n",
      "Epoch 10/10\n",
      "24/24 [==============================] - 12s 515ms/step - loss: 0.0171 - accuracy: 0.9965\n"
     ]
    },
    {
     "data": {
      "text/plain": [
       "<keras.callbacks.History at 0x19605624580>"
      ]
     },
     "execution_count": 9,
     "metadata": {},
     "output_type": "execute_result"
    }
   ],
   "source": [
    "model.fit(x_train, steps_per_epoch=24, epochs=10, validation_data=x_test, validation_steps=40)"
   ]
  },
  {
   "cell_type": "markdown",
   "id": "c436f26f",
   "metadata": {},
   "source": [
    "### Save the model"
   ]
  },
  {
   "cell_type": "code",
   "execution_count": 10,
   "id": "fab54e81",
   "metadata": {},
   "outputs": [],
   "source": [
    "model.save('aslpng1.h5')"
   ]
  },
  {
   "cell_type": "markdown",
   "id": "1d25100d",
   "metadata": {},
   "source": [
    "### Loading the Model"
   ]
  },
  {
   "cell_type": "code",
   "execution_count": 11,
   "id": "f5504b31",
   "metadata": {},
   "outputs": [],
   "source": [
    "model = load_model('aslpng1.h5')"
   ]
  },
  {
   "cell_type": "code",
   "execution_count": 12,
   "id": "6f3d0270",
   "metadata": {},
   "outputs": [],
   "source": [
    "def detect(frame):\n",
    "    img = resize(frame,(64,64,1))\n",
    "    img= np.expand_dims(img, axis=0)\n",
    "    if(np.max(img)>1):\n",
    "        img = img/255.0\n",
    "    prediction = model.predict(img)\n",
    "    print(prediction)\n",
    "    prediction = model.predict(img)\n",
    "    print(np.argmax(prediction))"
   ]
  },
  {
   "cell_type": "code",
   "execution_count": 13,
   "id": "3c507b83",
   "metadata": {},
   "outputs": [
    {
     "name": "stdout",
     "output_type": "stream",
     "text": [
      "1/1 [==============================] - 0s 79ms/step\n",
      "[[9.9284714e-01 3.5980094e-08 8.4570850e-08 2.5324333e-08 7.0843478e-03\n",
      "  1.2714108e-06 2.3137314e-05 2.0984089e-07 4.3799970e-05]]\n",
      "1/1 [==============================] - 0s 31ms/step\n",
      "0\n"
     ]
    }
   ],
   "source": [
    "frame = cv2.imread(\"dataset/test_set/A/1.png\")\n",
    "data = detect(frame)"
   ]
  },
  {
   "cell_type": "code",
   "execution_count": null,
   "id": "081306d9",
   "metadata": {},
   "outputs": [],
   "source": []
  }
 ],
 "metadata": {
  "kernelspec": {
   "display_name": "Python 3 (ipykernel)",
   "language": "python",
   "name": "python3"
  },
  "language_info": {
   "codemirror_mode": {
    "name": "ipython",
    "version": 3
   },
   "file_extension": ".py",
   "mimetype": "text/x-python",
   "name": "python",
   "nbconvert_exporter": "python",
   "pygments_lexer": "ipython3",
   "version": "3.9.13"
  }
 },
 "nbformat": 4,
 "nbformat_minor": 5
}
