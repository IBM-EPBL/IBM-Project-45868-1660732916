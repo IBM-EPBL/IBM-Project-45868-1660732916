{
 "cells": [
  {
   "cell_type": "markdown",
   "id": "da764868",
   "metadata": {},
   "source": [
    "### Importing Libraries"
   ]
  },
  {
   "cell_type": "code",
   "execution_count": 1,
   "id": "29defea7",
   "metadata": {},
   "outputs": [],
   "source": [
    "import os\n",
    "import cv2\n",
    "import random\n",
    "import numpy as np\n",
    "from sklearn.model_selection import train_test_split\n",
    "import tensorflow as tf\n",
    "import tensorflow_hub as hub\n",
    "# import math\n",
    "# \n",
    "# \n",
    "# \n",
    "# \n",
    "# import tensorflow.keras\n",
    "# from tensorflow import keras\n",
    "# from IPython.display import clear_output\n",
    "# from IPython.utils import io"
   ]
  },
  {
   "cell_type": "markdown",
   "id": "5399d503",
   "metadata": {},
   "source": [
    "Directory which will contain the Training Images according to alphabet. Sub-directories of alphabets are already present \n",
    "\n",
    "*Change it to a directory of your convinience*"
   ]
  },
  {
   "cell_type": "code",
   "execution_count": 2,
   "id": "8e32a765",
   "metadata": {},
   "outputs": [],
   "source": [
    "TRAIN_DIR = \"C:/Jupyter/IBM/Dataset/training_set/\""
   ]
  },
  {
   "cell_type": "markdown",
   "id": "67b6e600",
   "metadata": {},
   "source": [
    "Defining the classes of images that we wish to classify. *As the letters J and Z require motion we are excluding them here*"
   ]
  },
  {
   "cell_type": "code",
   "execution_count": 3,
   "id": "b06c8825",
   "metadata": {},
   "outputs": [],
   "source": [
    "CATEGORIES = ['A','B','C','D','E','F','G','H','I']"
   ]
  },
  {
   "cell_type": "markdown",
   "id": "9b4a83f3",
   "metadata": {},
   "source": [
    "### Preparing Training Dataset"
   ]
  },
  {
   "cell_type": "markdown",
   "id": "7520414e",
   "metadata": {},
   "source": [
    "Creating empty directory to store training data"
   ]
  },
  {
   "cell_type": "code",
   "execution_count": 4,
   "id": "e2c1b951",
   "metadata": {},
   "outputs": [],
   "source": [
    "trainImgs = []"
   ]
  },
  {
   "cell_type": "markdown",
   "id": "71bc9700",
   "metadata": {},
   "source": [
    "Recursive function that reads in image using OpenCv and Resizes it and stores the image array in a list"
   ]
  },
  {
   "cell_type": "code",
   "execution_count": 5,
   "id": "24a41fd9",
   "metadata": {},
   "outputs": [],
   "source": [
    "for cat in CATEGORIES:\n",
    "    path=os.path.join(TRAIN_DIR,cat) # Specifying the directory to take images from for each alphabet\n",
    "    class_num = CATEGORIES.index(cat) # Using the index of the CATEGORIES list to assign a label to each image\n",
    "    for img in os.listdir(path): # FOR loop which appends read images to the Training List\n",
    "        img=cv2.imread(TRAIN_DIR+cat+'/'+img)\n",
    "        resizedimg = cv2.resize(img, (224,224), interpolation= cv2.INTER_CUBIC)\n",
    "        trainImgs.append([resizedimg,class_num])"
   ]
  },
  {
   "cell_type": "markdown",
   "id": "3001d143",
   "metadata": {},
   "source": [
    "Shuffling the Train Data so that the Neural Network doesn't develop a pattern recognition system"
   ]
  },
  {
   "cell_type": "code",
   "execution_count": 6,
   "id": "8aa81407",
   "metadata": {
    "scrolled": true
   },
   "outputs": [],
   "source": [
    "random.shuffle(trainImgs)"
   ]
  },
  {
   "cell_type": "markdown",
   "id": "a6f8735c",
   "metadata": {},
   "source": [
    "Seperating the Images and Labels"
   ]
  },
  {
   "cell_type": "code",
   "execution_count": 7,
   "id": "5c306825",
   "metadata": {},
   "outputs": [],
   "source": [
    "X = []\n",
    "y = []\n",
    "for item in trainImgs:\n",
    "    X.append(item[0])\n",
    "    y.append(item[1])\n",
    "X=np.array(X)\n",
    "y=np.array(y)"
   ]
  },
  {
   "cell_type": "markdown",
   "id": "13f449f5",
   "metadata": {},
   "source": [
    "Normalizing the Images"
   ]
  },
  {
   "cell_type": "code",
   "execution_count": 8,
   "id": "23ccc225",
   "metadata": {},
   "outputs": [],
   "source": [
    "Xnor = X/255.0"
   ]
  },
  {
   "cell_type": "markdown",
   "id": "7c388823",
   "metadata": {},
   "source": [
    "Train Test Split"
   ]
  },
  {
   "cell_type": "code",
   "execution_count": 9,
   "id": "e3e3427e",
   "metadata": {},
   "outputs": [],
   "source": [
    "X_train, X_test, y_train, y_test = train_test_split(Xnor, y, test_size=0.3)"
   ]
  },
  {
   "cell_type": "markdown",
   "id": "308e3521",
   "metadata": {},
   "source": [
    "### Model Construction"
   ]
  },
  {
   "cell_type": "markdown",
   "id": "ff6c67ee",
   "metadata": {},
   "source": [
    "Specifying URL where MobileNetV2 resides"
   ]
  },
  {
   "cell_type": "code",
   "execution_count": 10,
   "id": "1575ef3b",
   "metadata": {},
   "outputs": [],
   "source": [
    "mobilenet_v2 = \"https://tfhub.dev/google/tf2-preview/mobilenet_v2/feature_vector/4\""
   ]
  },
  {
   "cell_type": "markdown",
   "id": "8e31bc80",
   "metadata": {},
   "source": [
    "Specifying the Input Layer"
   ]
  },
  {
   "cell_type": "code",
   "execution_count": 11,
   "id": "8fea31ea",
   "metadata": {},
   "outputs": [
    {
     "name": "stdout",
     "output_type": "stream",
     "text": [
      "WARNING:tensorflow:Please fix your imports. Module tensorflow.python.training.tracking.data_structures has been moved to tensorflow.python.trackable.data_structures. The old module will be deleted in version 2.11.\n"
     ]
    }
   ],
   "source": [
    "mobile_net_layers = hub.KerasLayer(mobilenet_v2, input_shape=(224,224,3))"
   ]
  },
  {
   "cell_type": "markdown",
   "id": "45b22919",
   "metadata": {},
   "source": [
    "Making sure that the Inner Layers remain same as we don't want to change any pre-training in the CNN."
   ]
  },
  {
   "cell_type": "code",
   "execution_count": 12,
   "id": "8bdd41f5",
   "metadata": {},
   "outputs": [],
   "source": [
    "mobile_net_layers.trainable = False"
   ]
  },
  {
   "cell_type": "markdown",
   "id": "feb65f6d",
   "metadata": {},
   "source": [
    "Constructing the model"
   ]
  },
  {
   "cell_type": "code",
   "execution_count": 13,
   "id": "e54c8a62",
   "metadata": {},
   "outputs": [],
   "source": [
    "model = tf.keras.Sequential([\n",
    "  mobile_net_layers,\n",
    "  tf.keras.layers.Dropout(0.25),\n",
    "  tf.keras.layers.Dense(9,activation='softmax')\n",
    "])"
   ]
  },
  {
   "cell_type": "markdown",
   "id": "8045c972",
   "metadata": {},
   "source": [
    "Compiling the model"
   ]
  },
  {
   "cell_type": "code",
   "execution_count": 14,
   "id": "7e96a2a2",
   "metadata": {},
   "outputs": [],
   "source": [
    "model.compile(optimizer='adam',loss='sparse_categorical_crossentropy',metrics=['accuracy'])"
   ]
  },
  {
   "cell_type": "markdown",
   "id": "286e3681",
   "metadata": {},
   "source": [
    "### Model Training"
   ]
  },
  {
   "cell_type": "markdown",
   "id": "aa7681a3",
   "metadata": {},
   "source": [
    "model.fit(X_train, y_train, validation_data=(X_test, y_test))      "
   ]
  },
  {
   "cell_type": "markdown",
   "id": "a729e120",
   "metadata": {},
   "source": [
    "As we can see the model has good accuracy. So I will use the entire data to train the model this time instead of just the train data"
   ]
  },
  {
   "cell_type": "code",
   "execution_count": 15,
   "id": "bdf3498c",
   "metadata": {},
   "outputs": [
    {
     "name": "stdout",
     "output_type": "stream",
     "text": [
      "3150/3150 [==============================] - 237s 74ms/step - loss: 0.0779 - accuracy: 0.9827\n"
     ]
    },
    {
     "data": {
      "text/plain": [
       "<keras.callbacks.History at 0x25e8e21d4c0>"
      ]
     },
     "execution_count": 15,
     "metadata": {},
     "output_type": "execute_result"
    }
   ],
   "source": [
    "model = tf.keras.Sequential([\n",
    "  mobile_net_layers,\n",
    "  tf.keras.layers.Dropout(0.25),\n",
    "  tf.keras.layers.Dense(9,activation='softmax')\n",
    "])\n",
    "\n",
    "model.compile(optimizer='adam',loss='sparse_categorical_crossentropy',metrics=['accuracy'])\n",
    "\n",
    "model.fit(Xnor, y, batch_size=5)      "
   ]
  },
  {
   "cell_type": "markdown",
   "id": "f85531e1",
   "metadata": {},
   "source": [
    "Saving the model"
   ]
  },
  {
   "cell_type": "code",
   "execution_count": 16,
   "id": "5368044e",
   "metadata": {},
   "outputs": [],
   "source": [
    "model.save('IBMASL.h5')"
   ]
  },
  {
   "cell_type": "markdown",
   "id": "1fdb5346",
   "metadata": {},
   "source": [
    "Loading the saved model *(This step was done for ease of use so that I didn't need to train the model everytime I wanted to make some changes)*"
   ]
  },
  {
   "cell_type": "code",
   "execution_count": 18,
   "id": "2a58d3eb",
   "metadata": {},
   "outputs": [],
   "source": [
    "model=tf.keras.models.load_model('IBMASL.h5',custom_objects={'KerasLayer': hub.KerasLayer})"
   ]
  },
  {
   "cell_type": "markdown",
   "id": "fa104a1b",
   "metadata": {},
   "source": [
    "Creating Test Data"
   ]
  },
  {
   "cell_type": "code",
   "execution_count": 21,
   "id": "001e393d",
   "metadata": {},
   "outputs": [],
   "source": [
    "TEST_DIR = \"C:/Jupyter/IBM/Dataset/test_set/\""
   ]
  },
  {
   "cell_type": "code",
   "execution_count": 22,
   "id": "e6ef5045",
   "metadata": {},
   "outputs": [],
   "source": [
    "testImgs = []\n",
    "for cat in CATEGORIES:\n",
    "    path=os.path.join(TEST_DIR,cat) # Specifying the directory to take images from for each alphabet\n",
    "    class_num = CATEGORIES.index(cat) # Using the index of the CATEGORIES list to assign a label to each image\n",
    "    for img in os.listdir(path): # FOR loop which appends read images to the Training List\n",
    "        img=cv2.imread(TEST_DIR+cat+'/'+img)\n",
    "        resizedimg = cv2.resize(img, (224,224), interpolation= cv2.INTER_CUBIC)\n",
    "        testImgs.append([resizedimg,class_num])"
   ]
  },
  {
   "cell_type": "code",
   "execution_count": 23,
   "id": "e4da5f67",
   "metadata": {},
   "outputs": [],
   "source": [
    "X_test = []\n",
    "y_test = []\n",
    "for item in testImgs:\n",
    "    X_test.append(item[0])\n",
    "    y_test.append(item[1])\n",
    "X_test=np.array(X_test)\n",
    "y_test=np.array(y_test)"
   ]
  },
  {
   "cell_type": "code",
   "execution_count": 25,
   "id": "8a70b215",
   "metadata": {},
   "outputs": [
    {
     "name": "stdout",
     "output_type": "stream",
     "text": [
      "71/71 [==============================] - 23s 327ms/step - loss: 1.1766 - accuracy: 0.6187\n"
     ]
    },
    {
     "data": {
      "text/plain": [
       "[1.1765762567520142, 0.6186666488647461]"
      ]
     },
     "execution_count": 25,
     "metadata": {},
     "output_type": "execute_result"
    }
   ],
   "source": [
    "model.evaluate(X_test, y_test)"
   ]
  },
  {
   "cell_type": "code",
   "execution_count": null,
   "id": "15ce3a60",
   "metadata": {},
   "outputs": [],
   "source": []
  }
 ],
 "metadata": {
  "kernelspec": {
   "display_name": "Python 3 (ipykernel)",
   "language": "python",
   "name": "python3"
  },
  "language_info": {
   "codemirror_mode": {
    "name": "ipython",
    "version": 3
   },
   "file_extension": ".py",
   "mimetype": "text/x-python",
   "name": "python",
   "nbconvert_exporter": "python",
   "pygments_lexer": "ipython3",
   "version": "3.9.13"
  }
 },
 "nbformat": 4,
 "nbformat_minor": 5
}
